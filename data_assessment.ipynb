{
 "cells": [
  {
   "cell_type": "code",
   "execution_count": null,
   "id": "574aeebc",
   "metadata": {},
   "outputs": [
    {
     "name": "stderr",
     "output_type": "stream",
     "text": [
      "C:\\Users\\mugil\\AppData\\Local\\Temp\\ipykernel_16220\\1712264934.py:2: DtypeWarning: Columns (7) have mixed types. Specify dtype option on import or set low_memory=False.\n",
      "  df = pd.read_csv(\"train.csv\")\n"
     ]
    },
    {
     "name": "stdout",
     "output_type": "stream",
     "text": [
      "     Column Name Data Type  Missing Values  Unique Values\n",
      "0          Store     int64               0           1115\n",
      "1      DayOfWeek     int64               0              7\n",
      "2           Date    object               0            942\n",
      "3          Sales     int64               0          21734\n",
      "4      Customers     int64               0           4086\n",
      "5           Open     int64               0              2\n",
      "6          Promo     int64               0              2\n",
      "7   StateHoliday    object               0              5\n",
      "8  SchoolHoliday     int64               0              2\n"
     ]
    }
   ],
   "source": [
    "import pandas as pd\n",
    "df = pd.read_csv(\"train.csv\")\n",
    "data_inventory = pd.DataFrame({\n",
    "    \"Column Name\": df.columns,\n",
    "    \"Data Type\": df.dtypes.values,\n",
    "    \"Missing Values\": df.isnull().sum().values,\n",
    "    \"Unique Values\": df.nunique().values\n",
    "})\n",
    "\n",
    "print(data_inventory)\n"
   ]
  },
  {
   "cell_type": "code",
   "execution_count": 1,
   "id": "f8dcc0cd",
   "metadata": {},
   "outputs": [
    {
     "name": "stderr",
     "output_type": "stream",
     "text": [
      "C:\\Users\\mugil\\AppData\\Local\\Temp\\ipykernel_16084\\1751650460.py:3: DtypeWarning: Columns (7) have mixed types. Specify dtype option on import or set low_memory=False.\n",
      "  df = pd.read_csv(\"train.csv\")\n"
     ]
    },
    {
     "name": "stdout",
     "output_type": "stream",
     "text": [
      "                   count unique         top    freq         mean          std  \\\n",
      "Store          1017209.0    NaN         NaN     NaN   558.429727   321.908651   \n",
      "DayOfWeek      1017209.0    NaN         NaN     NaN     3.998341     1.997391   \n",
      "Date             1017209    942  2013-01-02    1115          NaN          NaN   \n",
      "Sales          1017209.0    NaN         NaN     NaN  5773.818972  3849.926175   \n",
      "Customers      1017209.0    NaN         NaN     NaN   633.145946   464.411734   \n",
      "Open           1017209.0    NaN         NaN     NaN     0.830107     0.375539   \n",
      "Promo          1017209.0    NaN         NaN     NaN     0.381515     0.485759   \n",
      "StateHoliday     1017209      5           0  855087          NaN          NaN   \n",
      "SchoolHoliday  1017209.0    NaN         NaN     NaN     0.178647     0.383056   \n",
      "\n",
      "               min     25%     50%     75%      max  \n",
      "Store          1.0   280.0   558.0   838.0   1115.0  \n",
      "DayOfWeek      1.0     2.0     4.0     6.0      7.0  \n",
      "Date           NaN     NaN     NaN     NaN      NaN  \n",
      "Sales          0.0  3727.0  5744.0  7856.0  41551.0  \n",
      "Customers      0.0   405.0   609.0   837.0   7388.0  \n",
      "Open           0.0     1.0     1.0     1.0      1.0  \n",
      "Promo          0.0     0.0     0.0     1.0      1.0  \n",
      "StateHoliday   NaN     NaN     NaN     NaN      NaN  \n",
      "SchoolHoliday  0.0     0.0     0.0     0.0      1.0  \n"
     ]
    }
   ],
   "source": [
    "import pandas as pd\n",
    "\n",
    "df = pd.read_csv(\"train.csv\")\n",
    "initial_assessment = df.describe(include='all').transpose()\n",
    "initial_assessment = initial_assessment.round(2)\n",
    "print(initial_assessment.head(10))"
   ]
  },
  {
   "cell_type": "code",
   "execution_count": null,
   "id": "c10a8177",
   "metadata": {},
   "outputs": [
    {
     "name": "stderr",
     "output_type": "stream",
     "text": [
      "C:\\Users\\mugil\\AppData\\Local\\Temp\\ipykernel_16220\\430455862.py:4: DtypeWarning: Columns (7) have mixed types. Specify dtype option on import or set low_memory=False.\n",
      "  df = pd.read_csv(\"train.csv\")  # Change path as needed\n"
     ]
    },
    {
     "name": "stdout",
     "output_type": "stream",
     "text": [
      "                  25%     50%     75%\n",
      "Store           280.0   558.0   838.0\n",
      "DayOfWeek         2.0     4.0     6.0\n",
      "Sales          3727.0  5744.0  7856.0\n",
      "Customers       405.0   609.0   837.0\n",
      "Open              1.0     1.0     1.0\n",
      "Promo             0.0     0.0     1.0\n",
      "SchoolHoliday     0.0     0.0     0.0\n"
     ]
    }
   ],
   "source": [
    "import pandas as pd\n",
    "df = pd.read_csv(\"train.csv\")\n",
    "numeric_df = df.select_dtypes(include='number')\n",
    "percentiles = numeric_df.quantile([0.25, 0.5, 0.75])\n",
    "percentiles_transposed = percentiles.transpose()\n",
    "percentiles_transposed.columns = ['25%', '50%', '75%']\n",
    "print(percentiles_transposed)\n"
   ]
  }
 ],
 "metadata": {
  "kernelspec": {
   "display_name": "Python 3",
   "language": "python",
   "name": "python3"
  },
  "language_info": {
   "codemirror_mode": {
    "name": "ipython",
    "version": 3
   },
   "file_extension": ".py",
   "mimetype": "text/x-python",
   "name": "python",
   "nbconvert_exporter": "python",
   "pygments_lexer": "ipython3",
   "version": "3.11.9"
  }
 },
 "nbformat": 4,
 "nbformat_minor": 5
}
